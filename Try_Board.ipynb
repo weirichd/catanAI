{
 "cells": [
  {
   "cell_type": "code",
   "execution_count": 1,
   "metadata": {},
   "outputs": [],
   "source": [
    "%load_ext autoreload"
   ]
  },
  {
   "cell_type": "code",
   "execution_count": 2,
   "metadata": {},
   "outputs": [],
   "source": [
    "%autoreload 2"
   ]
  },
  {
   "cell_type": "code",
   "execution_count": 3,
   "metadata": {},
   "outputs": [],
   "source": [
    "import numpy as np"
   ]
  },
  {
   "cell_type": "code",
   "execution_count": 4,
   "metadata": {},
   "outputs": [
    {
     "data": {
      "image/svg+xml": [
       "<svg width=\"600\" height=\"600\"><rect x=\"0\" y=\"0\" width=\"600\" height=\"600\" fill=\"deepskyblue\"/><polygon points=\"213.39745962155615 200.0 170.0961894323342 175.0 170.0961894323342 125.0 213.39745962155615 100.0 256.69872981077805 125.0 256.69872981077805 175.0\" stroke=\"black\" fill=\"forestgreen\" stroke=\"red\" stroke-width=\"2\"/><text x=\"213.39745962155615\" y=\"140.0\" text-anchor=\"middle\">Forest</text><circle cx=\"213.39745962155615\" cy=\"170.0\" stroke=\"black\" fill=\"white\" r=\"15\" stroke-width=\"2\"/><text x=\"213.39745962155615\" y=\"175.0\" text-anchor=\"middle\" fill=\"black\">10</text><polygon points=\"300.0 200.0 256.69872981077805 175.0 256.69872981077805 125.0 300.0 100.0 343.30127018922195 125.0 343.30127018922195 175.0\" stroke=\"black\" fill=\"gray\" stroke=\"red\" stroke-width=\"2\"/><text x=\"300.0\" y=\"140.0\" text-anchor=\"middle\">Mountain</text><circle cx=\"300.0\" cy=\"170.0\" stroke=\"black\" fill=\"white\" r=\"15\" stroke-width=\"2\"/><text x=\"300.0\" y=\"175.0\" text-anchor=\"middle\" fill=\"black\">5</text><polygon points=\"386.60254037844385 200.0 343.30127018922195 175.0 343.30127018922195 125.0 386.60254037844385 100.0 429.9038105676658 125.0 429.9038105676658 175.0\" stroke=\"black\" fill=\"yellowgreen\" stroke=\"red\" stroke-width=\"2\"/><text x=\"386.60254037844385\" y=\"140.0\" text-anchor=\"middle\">Pasture</text><circle cx=\"386.60254037844385\" cy=\"170.0\" stroke=\"black\" fill=\"white\" r=\"15\" stroke-width=\"2\"/><text x=\"386.60254037844385\" y=\"175.0\" text-anchor=\"middle\" fill=\"black\">4</text><polygon points=\"170.0961894323342 275.0 126.79491924311228 250.0 126.79491924311228 200.0 170.0961894323342 175.0 213.39745962155612 200.0 213.39745962155612 250.0\" stroke=\"black\" fill=\"gold\" stroke=\"red\" stroke-width=\"2\"/><text x=\"170.0961894323342\" y=\"215.0\" text-anchor=\"middle\">Field</text><circle cx=\"170.0961894323342\" cy=\"245.0\" stroke=\"black\" fill=\"white\" r=\"15\" stroke-width=\"2\"/><text x=\"170.0961894323342\" y=\"250.0\" text-anchor=\"middle\" fill=\"black\">11</text><polygon points=\"256.69872981077805 275.0 213.39745962155615 250.0 213.39745962155615 200.0 256.69872981077805 175.0 300.0 200.0 300.0 250.0\" stroke=\"black\" fill=\"forestgreen\" stroke=\"red\" stroke-width=\"2\"/><text x=\"256.69872981077805\" y=\"215.0\" text-anchor=\"middle\">Forest</text><circle cx=\"256.69872981077805\" cy=\"245.0\" stroke=\"black\" fill=\"white\" r=\"15\" stroke-width=\"2\"/><text x=\"256.69872981077805\" y=\"250.0\" text-anchor=\"middle\" fill=\"red\">6</text><polygon points=\"343.30127018922195 275.0 300.0 250.0 300.0 200.0 343.30127018922195 175.0 386.60254037844385 200.0 386.60254037844385 250.0\" stroke=\"black\" fill=\"firebrick\" stroke=\"red\" stroke-width=\"2\"/><text x=\"343.30127018922195\" y=\"215.0\" text-anchor=\"middle\">Hill</text><circle cx=\"343.30127018922195\" cy=\"245.0\" stroke=\"black\" fill=\"white\" r=\"15\" stroke-width=\"2\"/><text x=\"343.30127018922195\" y=\"250.0\" text-anchor=\"middle\" fill=\"black\">2</text><polygon points=\"429.9038105676658 275.0 386.6025403784439 250.0 386.6025403784439 200.0 429.9038105676658 175.0 473.2050807568877 200.0 473.2050807568877 250.0\" stroke=\"black\" fill=\"yellowgreen\" stroke=\"red\" stroke-width=\"2\"/><text x=\"429.9038105676658\" y=\"215.0\" text-anchor=\"middle\">Pasture</text><circle cx=\"429.9038105676658\" cy=\"245.0\" stroke=\"black\" fill=\"white\" r=\"15\" stroke-width=\"2\"/><text x=\"429.9038105676658\" y=\"250.0\" text-anchor=\"middle\" fill=\"black\">5</text><polygon points=\"126.79491924311228 350.0 83.49364905389035 325.0 83.49364905389035 275.0 126.79491924311228 250.0 170.0961894323342 275.0 170.0961894323342 325.0\" stroke=\"black\" fill=\"gray\" stroke=\"red\" stroke-width=\"2\"/><text x=\"126.79491924311228\" y=\"290.0\" text-anchor=\"middle\">Mountain</text><circle cx=\"126.79491924311228\" cy=\"320.0\" stroke=\"black\" fill=\"white\" r=\"15\" stroke-width=\"2\"/><text x=\"126.79491924311228\" y=\"325.0\" text-anchor=\"middle\" fill=\"black\">11</text><polygon points=\"213.39745962155615 350.0 170.0961894323342 325.0 170.0961894323342 275.0 213.39745962155615 250.0 256.69872981077805 275.0 256.69872981077805 325.0\" stroke=\"black\" fill=\"yellowgreen\" stroke=\"red\" stroke-width=\"2\"/><text x=\"213.39745962155615\" y=\"290.0\" text-anchor=\"middle\">Pasture</text><circle cx=\"213.39745962155615\" cy=\"320.0\" stroke=\"black\" fill=\"white\" r=\"15\" stroke-width=\"2\"/><text x=\"213.39745962155615\" y=\"325.0\" text-anchor=\"middle\" fill=\"black\">3</text><polygon points=\"300.0 350.0 256.69872981077805 325.0 256.69872981077805 275.0 300.0 250.0 343.30127018922195 275.0 343.30127018922195 325.0\" stroke=\"black\" fill=\"forestgreen\" stroke=\"red\" stroke-width=\"2\"/><text x=\"300.0\" y=\"290.0\" text-anchor=\"middle\">Forest</text><circle cx=\"300.0\" cy=\"320.0\" stroke=\"black\" fill=\"white\" r=\"15\" stroke-width=\"2\"/><text x=\"300.0\" y=\"325.0\" text-anchor=\"middle\" fill=\"red\">8</text><polygon points=\"386.60254037844385 350.0 343.30127018922195 325.0 343.30127018922195 275.0 386.60254037844385 250.0 429.9038105676658 275.0 429.9038105676658 325.0\" stroke=\"black\" fill=\"firebrick\" stroke=\"red\" stroke-width=\"2\"/><text x=\"386.60254037844385\" y=\"290.0\" text-anchor=\"middle\">Hill</text><circle cx=\"386.60254037844385\" cy=\"320.0\" stroke=\"black\" fill=\"white\" r=\"15\" stroke-width=\"2\"/><text x=\"386.60254037844385\" y=\"325.0\" text-anchor=\"middle\" fill=\"black\">12</text><polygon points=\"473.2050807568877 350.0 429.9038105676658 325.0 429.9038105676658 275.0 473.2050807568877 250.0 516.5063509461097 275.0 516.5063509461097 325.0\" stroke=\"black\" fill=\"forestgreen\" stroke=\"red\" stroke-width=\"2\"/><text x=\"473.2050807568877\" y=\"290.0\" text-anchor=\"middle\">Forest</text><circle cx=\"473.2050807568877\" cy=\"320.0\" stroke=\"black\" fill=\"white\" r=\"15\" stroke-width=\"2\"/><text x=\"473.2050807568877\" y=\"325.0\" text-anchor=\"middle\" fill=\"red\">6</text><polygon points=\"170.0961894323342 425.0 126.79491924311228 400.0 126.79491924311228 350.0 170.0961894323342 325.0 213.39745962155612 350.0 213.39745962155612 400.0\" stroke=\"black\" fill=\"sandybrown\" stroke=\"red\" stroke-width=\"2\"/><text x=\"170.0961894323342\" y=\"365.0\" text-anchor=\"middle\">Desert</text><polygon points=\"256.69872981077805 425.0 213.39745962155615 400.0 213.39745962155615 350.0 256.69872981077805 325.0 300.0 350.0 300.0 400.0\" stroke=\"black\" fill=\"gray\" stroke=\"red\" stroke-width=\"2\"/><text x=\"256.69872981077805\" y=\"365.0\" text-anchor=\"middle\">Mountain</text><circle cx=\"256.69872981077805\" cy=\"395.0\" stroke=\"black\" fill=\"white\" r=\"15\" stroke-width=\"2\"/><text x=\"256.69872981077805\" y=\"400.0\" text-anchor=\"middle\" fill=\"black\">4</text><polygon points=\"343.30127018922195 425.0 300.0 400.0 300.0 350.0 343.30127018922195 325.0 386.60254037844385 350.0 386.60254037844385 400.0\" stroke=\"black\" fill=\"gold\" stroke=\"red\" stroke-width=\"2\"/><text x=\"343.30127018922195\" y=\"365.0\" text-anchor=\"middle\">Field</text><circle cx=\"343.30127018922195\" cy=\"395.0\" stroke=\"black\" fill=\"white\" r=\"15\" stroke-width=\"2\"/><text x=\"343.30127018922195\" y=\"400.0\" text-anchor=\"middle\" fill=\"black\">3</text><polygon points=\"429.9038105676658 425.0 386.6025403784439 400.0 386.6025403784439 350.0 429.9038105676658 325.0 473.2050807568877 350.0 473.2050807568877 400.0\" stroke=\"black\" fill=\"gold\" stroke=\"red\" stroke-width=\"2\"/><text x=\"429.9038105676658\" y=\"365.0\" text-anchor=\"middle\">Field</text><circle cx=\"429.9038105676658\" cy=\"395.0\" stroke=\"black\" fill=\"white\" r=\"15\" stroke-width=\"2\"/><text x=\"429.9038105676658\" y=\"400.0\" text-anchor=\"middle\" fill=\"black\">10</text><polygon points=\"213.39745962155615 500.0 170.0961894323342 475.0 170.0961894323342 425.0 213.39745962155615 400.0 256.69872981077805 425.0 256.69872981077805 475.0\" stroke=\"black\" fill=\"firebrick\" stroke=\"red\" stroke-width=\"2\"/><text x=\"213.39745962155615\" y=\"440.0\" text-anchor=\"middle\">Hill</text><circle cx=\"213.39745962155615\" cy=\"470.0\" stroke=\"black\" fill=\"white\" r=\"15\" stroke-width=\"2\"/><text x=\"213.39745962155615\" y=\"475.0\" text-anchor=\"middle\" fill=\"black\">9</text><polygon points=\"300.0 500.0 256.69872981077805 475.0 256.69872981077805 425.0 300.0 400.0 343.30127018922195 425.0 343.30127018922195 475.0\" stroke=\"black\" fill=\"gold\" stroke=\"red\" stroke-width=\"2\"/><text x=\"300.0\" y=\"440.0\" text-anchor=\"middle\">Field</text><circle cx=\"300.0\" cy=\"470.0\" stroke=\"black\" fill=\"white\" r=\"15\" stroke-width=\"2\"/><text x=\"300.0\" y=\"475.0\" text-anchor=\"middle\" fill=\"red\">8</text><polygon points=\"386.60254037844385 500.0 343.30127018922195 475.0 343.30127018922195 425.0 386.60254037844385 400.0 429.9038105676658 425.0 429.9038105676658 475.0\" stroke=\"black\" fill=\"yellowgreen\" stroke=\"red\" stroke-width=\"2\"/><text x=\"386.60254037844385\" y=\"440.0\" text-anchor=\"middle\">Pasture</text><circle cx=\"386.60254037844385\" cy=\"470.0\" stroke=\"black\" fill=\"white\" r=\"15\" stroke-width=\"2\"/><text x=\"386.60254037844385\" y=\"475.0\" text-anchor=\"middle\" fill=\"black\">9</text><polygon points=\"170.0961894323342 75.0 170.0961894323342 125.0 213.39745962155615 100.0\" stroke=\"black\" fill=\"white\" stroke=\"red\" stroke-width=\"2\"/><text x=\"170.0961894323342\" y=\"75.0\" text-anchor=\"middle\" \">Brick 2:1</text><polygon points=\"343.30127018922195 75.0 300.0 100.0 343.30127018922195 125.0\" stroke=\"black\" fill=\"white\" stroke=\"red\" stroke-width=\"2\"/><text x=\"343.30127018922195\" y=\"75.0\" text-anchor=\"middle\" \">Wheat 2:1</text><polygon points=\"473.2050807568877 150.0 429.9038105676658 175.0 473.2050807568877 200.0\" stroke=\"black\" fill=\"white\" stroke=\"red\" stroke-width=\"2\"/><text x=\"473.2050807568877\" y=\"150.0\" text-anchor=\"middle\" \">Any 3:1</text><polygon points=\"559.8076211353316 300.0 516.5063509461097 275.0 516.5063509461097 325.0\" stroke=\"black\" fill=\"white\" stroke=\"red\" stroke-width=\"2\"/><text x=\"559.8076211353316\" y=\"300.0\" text-anchor=\"middle\" \">Any 3:1</text><polygon points=\"473.2050807568877 450.0 429.9038105676658 425.0 473.2050807568877 400.0\" stroke=\"black\" fill=\"white\" stroke=\"red\" stroke-width=\"2\"/><text x=\"473.2050807568877\" y=\"450.0\" text-anchor=\"middle\" \">Any 3:1</text><polygon points=\"343.30127018922195 525.0 300.0 500.0 343.30127018922195 475.0\" stroke=\"black\" fill=\"white\" stroke=\"red\" stroke-width=\"2\"/><text x=\"343.30127018922195\" y=\"525.0\" text-anchor=\"middle\" \">Any 3:1</text><polygon points=\"170.0961894323342 525.0 170.0961894323342 475.0 213.39745962155615 500.0\" stroke=\"black\" fill=\"white\" stroke=\"red\" stroke-width=\"2\"/><text x=\"170.0961894323342\" y=\"525.0\" text-anchor=\"middle\" \">Ore 2:1</text><polygon points=\"83.49364905389035 375.0 126.79491924311228 350.0 126.79491924311228 400.0\" stroke=\"black\" fill=\"white\" stroke=\"red\" stroke-width=\"2\"/><text x=\"83.49364905389035\" y=\"375.0\" text-anchor=\"middle\" \">Wood 2:1</text><polygon points=\"83.49364905389035 225.0 126.79491924311228 200.0 126.79491924311228 250.0\" stroke=\"black\" fill=\"white\" stroke=\"red\" stroke-width=\"2\"/><text x=\"83.49364905389035\" y=\"225.0\" text-anchor=\"middle\" \">Sheep 2:1</text></svg>"
      ],
      "text/plain": [
       "<catanai.Board at 0x7f2ed42aedf0>"
      ]
     },
     "execution_count": 4,
     "metadata": {},
     "output_type": "execute_result"
    }
   ],
   "source": [
    "from catanai import Board\n",
    "\n",
    "board = Board(random_seed=1)\n",
    "\n",
    "board"
   ]
  },
  {
   "cell_type": "code",
   "execution_count": 5,
   "metadata": {},
   "outputs": [
    {
     "data": {
      "text/plain": [
       "(array([[1, 0, 0, 0, 0, 0],\n",
       "        [0, 0, 0, 0, 1, 0],\n",
       "        [0, 1, 0, 0, 0, 0],\n",
       "        [0, 0, 1, 0, 0, 0],\n",
       "        [1, 0, 0, 0, 0, 0],\n",
       "        [0, 0, 0, 1, 0, 0],\n",
       "        [0, 1, 0, 0, 0, 0],\n",
       "        [0, 0, 0, 0, 1, 0],\n",
       "        [0, 1, 0, 0, 0, 0],\n",
       "        [1, 0, 0, 0, 0, 0],\n",
       "        [0, 0, 0, 1, 0, 0],\n",
       "        [1, 0, 0, 0, 0, 0],\n",
       "        [0, 0, 0, 0, 0, 1],\n",
       "        [0, 0, 0, 0, 1, 0],\n",
       "        [0, 0, 1, 0, 0, 0],\n",
       "        [0, 0, 1, 0, 0, 0],\n",
       "        [0, 0, 0, 1, 0, 0],\n",
       "        [0, 0, 1, 0, 0, 0],\n",
       "        [0, 1, 0, 0, 0, 0]]),\n",
       " array([[0, 0, 0, 1, 0, 0],\n",
       "        [0, 0, 1, 0, 0, 0],\n",
       "        [0, 0, 0, 0, 0, 1],\n",
       "        [0, 0, 0, 0, 0, 1],\n",
       "        [0, 0, 0, 0, 0, 1],\n",
       "        [0, 0, 0, 0, 0, 1],\n",
       "        [0, 0, 0, 0, 1, 0],\n",
       "        [1, 0, 0, 0, 0, 0],\n",
       "        [0, 1, 0, 0, 0, 0]]),\n",
       " array([10,  5,  4, 11,  6,  2,  5, 11,  3,  8, 12,  6,  0,  4,  3, 10,  9,\n",
       "         8,  9]))"
      ]
     },
     "execution_count": 5,
     "metadata": {},
     "output_type": "execute_result"
    }
   ],
   "source": [
    "board.tiles_tensor, board.harbor_tensor, board.numbers"
   ]
  },
  {
   "cell_type": "code",
   "execution_count": 6,
   "metadata": {},
   "outputs": [
    {
     "data": {
      "text/plain": [
       "array([3, 4, 3, 2, 5, 1, 4, 2, 2, 5, 1, 5, 0, 3, 2, 3, 4, 5, 4])"
      ]
     },
     "execution_count": 6,
     "metadata": {},
     "output_type": "execute_result"
    }
   ],
   "source": [
    "board.dots"
   ]
  }
 ],
 "metadata": {
  "kernelspec": {
   "display_name": "catanai",
   "language": "python",
   "name": "catanai"
  },
  "language_info": {
   "codemirror_mode": {
    "name": "ipython",
    "version": 3
   },
   "file_extension": ".py",
   "mimetype": "text/x-python",
   "name": "python",
   "nbconvert_exporter": "python",
   "pygments_lexer": "ipython3",
   "version": "3.8.5"
  }
 },
 "nbformat": 4,
 "nbformat_minor": 4
}
